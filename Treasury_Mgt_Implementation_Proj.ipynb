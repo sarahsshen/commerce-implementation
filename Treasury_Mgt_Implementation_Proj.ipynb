{
 "cells": [
  {
   "cell_type": "code",
   "execution_count": 228,
   "id": "a8fc41db",
   "metadata": {},
   "outputs": [],
   "source": [
    "import pandas as pd\n",
    "import numpy as np\n",
    "import datetime\n",
    "import matplotlib.pyplot as plt\n",
    "#from scipy import stats\n",
    "#import calendar\n",
    "# import decimal\n",
    "# import math"
   ]
  },
  {
   "cell_type": "code",
   "execution_count": 229,
   "id": "83793d89",
   "metadata": {},
   "outputs": [
    {
     "data": {
      "text/html": [
       "<div>\n",
       "<style scoped>\n",
       "    .dataframe tbody tr th:only-of-type {\n",
       "        vertical-align: middle;\n",
       "    }\n",
       "\n",
       "    .dataframe tbody tr th {\n",
       "        vertical-align: top;\n",
       "    }\n",
       "\n",
       "    .dataframe thead th {\n",
       "        text-align: right;\n",
       "    }\n",
       "</style>\n",
       "<table border=\"1\" class=\"dataframe\">\n",
       "  <thead>\n",
       "    <tr style=\"text-align: right;\">\n",
       "      <th></th>\n",
       "      <th>Request_type</th>\n",
       "      <th>Visible_Status</th>\n",
       "      <th>Market</th>\n",
       "      <th>Parent_Company</th>\n",
       "      <th>TMO</th>\n",
       "      <th>TMS</th>\n",
       "      <th>RM</th>\n",
       "      <th>TIS_assigned</th>\n",
       "      <th>Name</th>\n",
       "      <th>Place_Rush</th>\n",
       "      <th>...</th>\n",
       "      <th>Date_upload_TSA_Imaging</th>\n",
       "      <th>Date_send_to_operations</th>\n",
       "      <th>Date_Operations_Confirmed</th>\n",
       "      <th>Date_emulate_setup</th>\n",
       "      <th>Date_add_account</th>\n",
       "      <th>Date_notify_TMO_TMS</th>\n",
       "      <th>Date_train_customer</th>\n",
       "      <th>Date_ complete_insight360</th>\n",
       "      <th>Created_Sort_Desc</th>\n",
       "      <th>Created_By</th>\n",
       "    </tr>\n",
       "  </thead>\n",
       "  <tbody>\n",
       "    <tr>\n",
       "      <th>0</th>\n",
       "      <td>Maintenance</td>\n",
       "      <td>Submitted</td>\n",
       "      <td>St. Louis</td>\n",
       "      <td>EAN SERVICES LLC</td>\n",
       "      <td>Aiello, Susan</td>\n",
       "      <td>Diecker, Nichole</td>\n",
       "      <td>Clarkson, Anthony</td>\n",
       "      <td>NaN</td>\n",
       "      <td>ndiecker20220722175120</td>\n",
       "      <td>NaN</td>\n",
       "      <td>...</td>\n",
       "      <td>NaT</td>\n",
       "      <td>NaT</td>\n",
       "      <td>NaT</td>\n",
       "      <td>NaT</td>\n",
       "      <td>NaT</td>\n",
       "      <td>NaT</td>\n",
       "      <td>NaT</td>\n",
       "      <td>NaT</td>\n",
       "      <td>2022-07-22 17:58:00</td>\n",
       "      <td>Diecker, Nichole</td>\n",
       "    </tr>\n",
       "    <tr>\n",
       "      <th>1</th>\n",
       "      <td>Expanded Business</td>\n",
       "      <td>In Progress</td>\n",
       "      <td>St. Louis</td>\n",
       "      <td>THE COMMUNITY SCHOOL ASSOCIATION</td>\n",
       "      <td>Chapman, Joseph</td>\n",
       "      <td>Hopkins, Madeline</td>\n",
       "      <td>NaN</td>\n",
       "      <td>Jones, Kyle</td>\n",
       "      <td>mhopkins20220722095306</td>\n",
       "      <td>NaN</td>\n",
       "      <td>...</td>\n",
       "      <td>NaT</td>\n",
       "      <td>NaT</td>\n",
       "      <td>NaT</td>\n",
       "      <td>NaT</td>\n",
       "      <td>NaT</td>\n",
       "      <td>NaT</td>\n",
       "      <td>NaT</td>\n",
       "      <td>NaT</td>\n",
       "      <td>2022-07-22 10:01:00</td>\n",
       "      <td>Hopkins, Madeline</td>\n",
       "    </tr>\n",
       "    <tr>\n",
       "      <th>2</th>\n",
       "      <td>Maintenance</td>\n",
       "      <td>In Progress</td>\n",
       "      <td>St. Louis</td>\n",
       "      <td>CONGREGATION BNAI AMOONA</td>\n",
       "      <td>Chapman, Joseph</td>\n",
       "      <td>Hopkins, Madeline</td>\n",
       "      <td>NaN</td>\n",
       "      <td>Quach, Nguyen</td>\n",
       "      <td>mhopkins20220722093836</td>\n",
       "      <td>NaN</td>\n",
       "      <td>...</td>\n",
       "      <td>NaT</td>\n",
       "      <td>NaT</td>\n",
       "      <td>NaT</td>\n",
       "      <td>NaT</td>\n",
       "      <td>NaT</td>\n",
       "      <td>NaT</td>\n",
       "      <td>NaT</td>\n",
       "      <td>NaT</td>\n",
       "      <td>2022-07-22 09:52:00</td>\n",
       "      <td>Hopkins, Madeline</td>\n",
       "    </tr>\n",
       "    <tr>\n",
       "      <th>3</th>\n",
       "      <td>Maintenance</td>\n",
       "      <td>In Progress</td>\n",
       "      <td>St. Louis</td>\n",
       "      <td>PLANNED PARENTHOOD OF THE ST LOUIS</td>\n",
       "      <td>Chapman, Joseph</td>\n",
       "      <td>Hopkins, Madeline</td>\n",
       "      <td>NaN</td>\n",
       "      <td>Biviji, Munira</td>\n",
       "      <td>mhopkins20220722085043</td>\n",
       "      <td>NaN</td>\n",
       "      <td>...</td>\n",
       "      <td>NaT</td>\n",
       "      <td>NaT</td>\n",
       "      <td>NaT</td>\n",
       "      <td>NaT</td>\n",
       "      <td>NaT</td>\n",
       "      <td>NaT</td>\n",
       "      <td>NaT</td>\n",
       "      <td>NaT</td>\n",
       "      <td>2022-07-22 09:31:00</td>\n",
       "      <td>Hopkins, Madeline</td>\n",
       "    </tr>\n",
       "    <tr>\n",
       "      <th>4</th>\n",
       "      <td>Expanded Business</td>\n",
       "      <td>In Progress</td>\n",
       "      <td>St. Louis</td>\n",
       "      <td>JEFFERSON NATIONAL PARKS ASSN INC</td>\n",
       "      <td>Chapman, Joseph</td>\n",
       "      <td>Hopkins, Madeline</td>\n",
       "      <td>NaN</td>\n",
       "      <td>Biviji, Munira</td>\n",
       "      <td>mhopkins20220722090353</td>\n",
       "      <td>NaN</td>\n",
       "      <td>...</td>\n",
       "      <td>NaT</td>\n",
       "      <td>NaT</td>\n",
       "      <td>NaT</td>\n",
       "      <td>NaT</td>\n",
       "      <td>NaT</td>\n",
       "      <td>NaT</td>\n",
       "      <td>NaT</td>\n",
       "      <td>NaT</td>\n",
       "      <td>2022-07-22 09:09:00</td>\n",
       "      <td>Hopkins, Madeline</td>\n",
       "    </tr>\n",
       "  </tbody>\n",
       "</table>\n",
       "<p>5 rows × 27 columns</p>\n",
       "</div>"
      ],
      "text/plain": [
       "        Request_type Visible_Status     Market  \\\n",
       "0        Maintenance      Submitted  St. Louis   \n",
       "1  Expanded Business    In Progress  St. Louis   \n",
       "2        Maintenance    In Progress  St. Louis   \n",
       "3        Maintenance    In Progress  St. Louis   \n",
       "4  Expanded Business    In Progress  St. Louis   \n",
       "\n",
       "                       Parent_Company              TMO                TMS  \\\n",
       "0                    EAN SERVICES LLC    Aiello, Susan   Diecker, Nichole   \n",
       "1    THE COMMUNITY SCHOOL ASSOCIATION  Chapman, Joseph  Hopkins, Madeline   \n",
       "2            CONGREGATION BNAI AMOONA  Chapman, Joseph  Hopkins, Madeline   \n",
       "3  PLANNED PARENTHOOD OF THE ST LOUIS  Chapman, Joseph  Hopkins, Madeline   \n",
       "4   JEFFERSON NATIONAL PARKS ASSN INC  Chapman, Joseph  Hopkins, Madeline   \n",
       "\n",
       "                  RM    TIS_assigned                    Name Place_Rush  ...  \\\n",
       "0  Clarkson, Anthony             NaN  ndiecker20220722175120        NaN  ...   \n",
       "1                NaN     Jones, Kyle  mhopkins20220722095306        NaN  ...   \n",
       "2                NaN   Quach, Nguyen  mhopkins20220722093836        NaN  ...   \n",
       "3                NaN  Biviji, Munira  mhopkins20220722085043        NaN  ...   \n",
       "4                NaN  Biviji, Munira  mhopkins20220722090353        NaN  ...   \n",
       "\n",
       "  Date_upload_TSA_Imaging Date_send_to_operations Date_Operations_Confirmed  \\\n",
       "0                     NaT                     NaT                       NaT   \n",
       "1                     NaT                     NaT                       NaT   \n",
       "2                     NaT                     NaT                       NaT   \n",
       "3                     NaT                     NaT                       NaT   \n",
       "4                     NaT                     NaT                       NaT   \n",
       "\n",
       "  Date_emulate_setup Date_add_account Date_notify_TMO_TMS Date_train_customer  \\\n",
       "0                NaT              NaT                 NaT                 NaT   \n",
       "1                NaT              NaT                 NaT                 NaT   \n",
       "2                NaT              NaT                 NaT                 NaT   \n",
       "3                NaT              NaT                 NaT                 NaT   \n",
       "4                NaT              NaT                 NaT                 NaT   \n",
       "\n",
       "  Date_ complete_insight360   Created_Sort_Desc         Created_By  \n",
       "0                       NaT 2022-07-22 17:58:00   Diecker, Nichole  \n",
       "1                       NaT 2022-07-22 10:01:00  Hopkins, Madeline  \n",
       "2                       NaT 2022-07-22 09:52:00  Hopkins, Madeline  \n",
       "3                       NaT 2022-07-22 09:31:00  Hopkins, Madeline  \n",
       "4                       NaT 2022-07-22 09:09:00  Hopkins, Madeline  \n",
       "\n",
       "[5 rows x 27 columns]"
      ]
     },
     "execution_count": 229,
     "metadata": {},
     "output_type": "execute_result"
    }
   ],
   "source": [
    "df_impl = pd.read_excel(r\"C:\\Users\\sara6284\\Documents\\Treasury_Mgmt_Implementation_Info.xlsx\")\n",
    "df_impl.head()"
   ]
  },
  {
   "cell_type": "code",
   "execution_count": 230,
   "id": "edb9f344",
   "metadata": {},
   "outputs": [],
   "source": [
    "#df_impl.dtypes"
   ]
  },
  {
   "cell_type": "code",
   "execution_count": 231,
   "id": "acb9bd7c",
   "metadata": {},
   "outputs": [
    {
     "data": {
      "text/plain": [
       "157"
      ]
     },
     "execution_count": 231,
     "metadata": {},
     "output_type": "execute_result"
    }
   ],
   "source": [
    "len(df_impl)"
   ]
  },
  {
   "cell_type": "code",
   "execution_count": 232,
   "id": "8c646c43",
   "metadata": {},
   "outputs": [
    {
     "data": {
      "text/html": [
       "<div>\n",
       "<style scoped>\n",
       "    .dataframe tbody tr th:only-of-type {\n",
       "        vertical-align: middle;\n",
       "    }\n",
       "\n",
       "    .dataframe tbody tr th {\n",
       "        vertical-align: top;\n",
       "    }\n",
       "\n",
       "    .dataframe thead th {\n",
       "        text-align: right;\n",
       "    }\n",
       "</style>\n",
       "<table border=\"1\" class=\"dataframe\">\n",
       "  <thead>\n",
       "    <tr style=\"text-align: right;\">\n",
       "      <th></th>\n",
       "      <th>Request_type</th>\n",
       "      <th>Visible_Status</th>\n",
       "      <th>Market</th>\n",
       "      <th>Parent_Company</th>\n",
       "      <th>TMO</th>\n",
       "      <th>TMS</th>\n",
       "      <th>RM</th>\n",
       "      <th>TIS_assigned</th>\n",
       "      <th>Name</th>\n",
       "      <th>Place_Rush</th>\n",
       "      <th>...</th>\n",
       "      <th>Date_upload_TSA_Imaging</th>\n",
       "      <th>Date_send_to_operations</th>\n",
       "      <th>Date_Operations_Confirmed</th>\n",
       "      <th>Date_emulate_setup</th>\n",
       "      <th>Date_add_account</th>\n",
       "      <th>Date_notify_TMO_TMS</th>\n",
       "      <th>Date_train_customer</th>\n",
       "      <th>Date_ complete_insight360</th>\n",
       "      <th>Created_Sort_Desc</th>\n",
       "      <th>Created_By</th>\n",
       "    </tr>\n",
       "  </thead>\n",
       "  <tbody>\n",
       "    <tr>\n",
       "      <th>0</th>\n",
       "      <td>Maintenance</td>\n",
       "      <td>Submitted</td>\n",
       "      <td>St. Louis</td>\n",
       "      <td>EAN SERVICES LLC</td>\n",
       "      <td>Aiello, Susan</td>\n",
       "      <td>Diecker, Nichole</td>\n",
       "      <td>Clarkson, Anthony</td>\n",
       "      <td>NaN</td>\n",
       "      <td>ndiecker20220722175120</td>\n",
       "      <td>NaN</td>\n",
       "      <td>...</td>\n",
       "      <td>NaT</td>\n",
       "      <td>NaT</td>\n",
       "      <td>NaT</td>\n",
       "      <td>NaT</td>\n",
       "      <td>NaT</td>\n",
       "      <td>NaT</td>\n",
       "      <td>NaT</td>\n",
       "      <td>NaT</td>\n",
       "      <td>2022-07-22 17:58:00</td>\n",
       "      <td>Diecker, Nichole</td>\n",
       "    </tr>\n",
       "    <tr>\n",
       "      <th>1</th>\n",
       "      <td>Expanded Business</td>\n",
       "      <td>In Progress</td>\n",
       "      <td>St. Louis</td>\n",
       "      <td>THE COMMUNITY SCHOOL ASSOCIATION</td>\n",
       "      <td>Chapman, Joseph</td>\n",
       "      <td>Hopkins, Madeline</td>\n",
       "      <td>NaN</td>\n",
       "      <td>Jones, Kyle</td>\n",
       "      <td>mhopkins20220722095306</td>\n",
       "      <td>NaN</td>\n",
       "      <td>...</td>\n",
       "      <td>NaT</td>\n",
       "      <td>NaT</td>\n",
       "      <td>NaT</td>\n",
       "      <td>NaT</td>\n",
       "      <td>NaT</td>\n",
       "      <td>NaT</td>\n",
       "      <td>NaT</td>\n",
       "      <td>NaT</td>\n",
       "      <td>2022-07-22 10:01:00</td>\n",
       "      <td>Hopkins, Madeline</td>\n",
       "    </tr>\n",
       "    <tr>\n",
       "      <th>2</th>\n",
       "      <td>Maintenance</td>\n",
       "      <td>In Progress</td>\n",
       "      <td>St. Louis</td>\n",
       "      <td>CONGREGATION BNAI AMOONA</td>\n",
       "      <td>Chapman, Joseph</td>\n",
       "      <td>Hopkins, Madeline</td>\n",
       "      <td>NaN</td>\n",
       "      <td>Quach, Nguyen</td>\n",
       "      <td>mhopkins20220722093836</td>\n",
       "      <td>NaN</td>\n",
       "      <td>...</td>\n",
       "      <td>NaT</td>\n",
       "      <td>NaT</td>\n",
       "      <td>NaT</td>\n",
       "      <td>NaT</td>\n",
       "      <td>NaT</td>\n",
       "      <td>NaT</td>\n",
       "      <td>NaT</td>\n",
       "      <td>NaT</td>\n",
       "      <td>2022-07-22 09:52:00</td>\n",
       "      <td>Hopkins, Madeline</td>\n",
       "    </tr>\n",
       "    <tr>\n",
       "      <th>3</th>\n",
       "      <td>Maintenance</td>\n",
       "      <td>In Progress</td>\n",
       "      <td>St. Louis</td>\n",
       "      <td>PLANNED PARENTHOOD OF THE ST LOUIS</td>\n",
       "      <td>Chapman, Joseph</td>\n",
       "      <td>Hopkins, Madeline</td>\n",
       "      <td>NaN</td>\n",
       "      <td>Biviji, Munira</td>\n",
       "      <td>mhopkins20220722085043</td>\n",
       "      <td>NaN</td>\n",
       "      <td>...</td>\n",
       "      <td>NaT</td>\n",
       "      <td>NaT</td>\n",
       "      <td>NaT</td>\n",
       "      <td>NaT</td>\n",
       "      <td>NaT</td>\n",
       "      <td>NaT</td>\n",
       "      <td>NaT</td>\n",
       "      <td>NaT</td>\n",
       "      <td>2022-07-22 09:31:00</td>\n",
       "      <td>Hopkins, Madeline</td>\n",
       "    </tr>\n",
       "    <tr>\n",
       "      <th>4</th>\n",
       "      <td>Expanded Business</td>\n",
       "      <td>In Progress</td>\n",
       "      <td>St. Louis</td>\n",
       "      <td>JEFFERSON NATIONAL PARKS ASSN INC</td>\n",
       "      <td>Chapman, Joseph</td>\n",
       "      <td>Hopkins, Madeline</td>\n",
       "      <td>NaN</td>\n",
       "      <td>Biviji, Munira</td>\n",
       "      <td>mhopkins20220722090353</td>\n",
       "      <td>NaN</td>\n",
       "      <td>...</td>\n",
       "      <td>NaT</td>\n",
       "      <td>NaT</td>\n",
       "      <td>NaT</td>\n",
       "      <td>NaT</td>\n",
       "      <td>NaT</td>\n",
       "      <td>NaT</td>\n",
       "      <td>NaT</td>\n",
       "      <td>NaT</td>\n",
       "      <td>2022-07-22 09:09:00</td>\n",
       "      <td>Hopkins, Madeline</td>\n",
       "    </tr>\n",
       "  </tbody>\n",
       "</table>\n",
       "<p>5 rows × 27 columns</p>\n",
       "</div>"
      ],
      "text/plain": [
       "        Request_type Visible_Status     Market  \\\n",
       "0        Maintenance      Submitted  St. Louis   \n",
       "1  Expanded Business    In Progress  St. Louis   \n",
       "2        Maintenance    In Progress  St. Louis   \n",
       "3        Maintenance    In Progress  St. Louis   \n",
       "4  Expanded Business    In Progress  St. Louis   \n",
       "\n",
       "                       Parent_Company              TMO                TMS  \\\n",
       "0                    EAN SERVICES LLC    Aiello, Susan   Diecker, Nichole   \n",
       "1    THE COMMUNITY SCHOOL ASSOCIATION  Chapman, Joseph  Hopkins, Madeline   \n",
       "2            CONGREGATION BNAI AMOONA  Chapman, Joseph  Hopkins, Madeline   \n",
       "3  PLANNED PARENTHOOD OF THE ST LOUIS  Chapman, Joseph  Hopkins, Madeline   \n",
       "4   JEFFERSON NATIONAL PARKS ASSN INC  Chapman, Joseph  Hopkins, Madeline   \n",
       "\n",
       "                  RM    TIS_assigned                    Name Place_Rush  ...  \\\n",
       "0  Clarkson, Anthony             NaN  ndiecker20220722175120        NaN  ...   \n",
       "1                NaN     Jones, Kyle  mhopkins20220722095306        NaN  ...   \n",
       "2                NaN   Quach, Nguyen  mhopkins20220722093836        NaN  ...   \n",
       "3                NaN  Biviji, Munira  mhopkins20220722085043        NaN  ...   \n",
       "4                NaN  Biviji, Munira  mhopkins20220722090353        NaN  ...   \n",
       "\n",
       "  Date_upload_TSA_Imaging Date_send_to_operations Date_Operations_Confirmed  \\\n",
       "0                     NaT                     NaT                       NaT   \n",
       "1                     NaT                     NaT                       NaT   \n",
       "2                     NaT                     NaT                       NaT   \n",
       "3                     NaT                     NaT                       NaT   \n",
       "4                     NaT                     NaT                       NaT   \n",
       "\n",
       "  Date_emulate_setup Date_add_account Date_notify_TMO_TMS Date_train_customer  \\\n",
       "0                NaT              NaT                 NaT                 NaT   \n",
       "1                NaT              NaT                 NaT                 NaT   \n",
       "2                NaT              NaT                 NaT                 NaT   \n",
       "3                NaT              NaT                 NaT                 NaT   \n",
       "4                NaT              NaT                 NaT                 NaT   \n",
       "\n",
       "  Date_ complete_insight360   Created_Sort_Desc         Created_By  \n",
       "0                       NaT 2022-07-22 17:58:00   Diecker, Nichole  \n",
       "1                       NaT 2022-07-22 10:01:00  Hopkins, Madeline  \n",
       "2                       NaT 2022-07-22 09:52:00  Hopkins, Madeline  \n",
       "3                       NaT 2022-07-22 09:31:00  Hopkins, Madeline  \n",
       "4                       NaT 2022-07-22 09:09:00  Hopkins, Madeline  \n",
       "\n",
       "[5 rows x 27 columns]"
      ]
     },
     "execution_count": 232,
     "metadata": {},
     "output_type": "execute_result"
    }
   ],
   "source": [
    "df_new = df_impl.copy(deep=True)\n",
    "#df_new['Created_Sort_Desc'] = df_new.Created_Sort_Desc.dt.strftime(\"%d/%m/%Y, %H:%M:%S\")\n",
    "df_new.head()"
   ]
  },
  {
   "cell_type": "code",
   "execution_count": 233,
   "id": "40bde6f9",
   "metadata": {},
   "outputs": [],
   "source": [
    "# df_june = df_new[df_new['Created_Sort_Desc'].str.contains('/06/')]\n",
    "# df_july = df_new[df_new['Created_Sort_Desc'].str.contains('/07/')]\n",
    "\n",
    "df_june = df_new[df_new['Created_Sort_Desc'].dt.month==6]\n",
    "df_july = df_new[df_new['Created_Sort_Desc'].dt.month==7]"
   ]
  },
  {
   "cell_type": "code",
   "execution_count": 234,
   "id": "7f1791e2",
   "metadata": {},
   "outputs": [
    {
     "data": {
      "text/plain": [
       "98"
      ]
     },
     "execution_count": 234,
     "metadata": {},
     "output_type": "execute_result"
    }
   ],
   "source": [
    "len(df_june)"
   ]
  },
  {
   "cell_type": "code",
   "execution_count": 235,
   "id": "64af5f17",
   "metadata": {},
   "outputs": [
    {
     "data": {
      "text/plain": [
       "59"
      ]
     },
     "execution_count": 235,
     "metadata": {},
     "output_type": "execute_result"
    }
   ],
   "source": [
    "len(df_july)"
   ]
  },
  {
   "cell_type": "code",
   "execution_count": 236,
   "id": "683d2e56",
   "metadata": {},
   "outputs": [
    {
     "data": {
      "text/html": [
       "<div>\n",
       "<style scoped>\n",
       "    .dataframe tbody tr th:only-of-type {\n",
       "        vertical-align: middle;\n",
       "    }\n",
       "\n",
       "    .dataframe tbody tr th {\n",
       "        vertical-align: top;\n",
       "    }\n",
       "\n",
       "    .dataframe thead th {\n",
       "        text-align: right;\n",
       "    }\n",
       "</style>\n",
       "<table border=\"1\" class=\"dataframe\">\n",
       "  <thead>\n",
       "    <tr style=\"text-align: right;\">\n",
       "      <th></th>\n",
       "      <th>Request_type</th>\n",
       "      <th>Visible_Status</th>\n",
       "      <th>Market</th>\n",
       "      <th>Parent_Company</th>\n",
       "      <th>TMO</th>\n",
       "      <th>TMS</th>\n",
       "      <th>RM</th>\n",
       "      <th>TIS_assigned</th>\n",
       "      <th>Name</th>\n",
       "      <th>Place_Rush</th>\n",
       "      <th>...</th>\n",
       "      <th>Date_upload_TSA_Imaging</th>\n",
       "      <th>Date_send_to_operations</th>\n",
       "      <th>Date_Operations_Confirmed</th>\n",
       "      <th>Date_emulate_setup</th>\n",
       "      <th>Date_add_account</th>\n",
       "      <th>Date_notify_TMO_TMS</th>\n",
       "      <th>Date_train_customer</th>\n",
       "      <th>Date_ complete_insight360</th>\n",
       "      <th>Created_Sort_Desc</th>\n",
       "      <th>Created_By</th>\n",
       "    </tr>\n",
       "  </thead>\n",
       "  <tbody>\n",
       "    <tr>\n",
       "      <th>14</th>\n",
       "      <td>Maintenance</td>\n",
       "      <td>Complete</td>\n",
       "      <td>St. Louis</td>\n",
       "      <td>SOUTHEAST MISSOURI UNIV FDN</td>\n",
       "      <td>Chapman, Joseph</td>\n",
       "      <td>Crump, Darin</td>\n",
       "      <td>NaN</td>\n",
       "      <td>Jones, Kyle</td>\n",
       "      <td>jchapman20220720114538</td>\n",
       "      <td>NaN</td>\n",
       "      <td>...</td>\n",
       "      <td>2022-07-22</td>\n",
       "      <td>2022-07-22</td>\n",
       "      <td>2022-07-22</td>\n",
       "      <td>2022-07-22</td>\n",
       "      <td>NaT</td>\n",
       "      <td>2022-07-22</td>\n",
       "      <td>NaT</td>\n",
       "      <td>NaT</td>\n",
       "      <td>2022-07-20 11:51:00</td>\n",
       "      <td>Chapman, Joseph</td>\n",
       "    </tr>\n",
       "    <tr>\n",
       "      <th>18</th>\n",
       "      <td>Maintenance</td>\n",
       "      <td>Complete</td>\n",
       "      <td>St. Louis</td>\n",
       "      <td>DTB HOLDINGS LLC DBA BDC</td>\n",
       "      <td>Chapman, Joseph</td>\n",
       "      <td>Crump, Darin</td>\n",
       "      <td>Brooks, Charles</td>\n",
       "      <td>Griffin, Fatima</td>\n",
       "      <td>jchapman20220718125022</td>\n",
       "      <td>NaN</td>\n",
       "      <td>...</td>\n",
       "      <td>2022-07-18</td>\n",
       "      <td>2022-07-18</td>\n",
       "      <td>2022-07-19</td>\n",
       "      <td>2022-07-19</td>\n",
       "      <td>NaT</td>\n",
       "      <td>2022-07-19</td>\n",
       "      <td>NaT</td>\n",
       "      <td>2022-07-19</td>\n",
       "      <td>2022-07-18 12:54:00</td>\n",
       "      <td>Chapman, Joseph</td>\n",
       "    </tr>\n",
       "    <tr>\n",
       "      <th>20</th>\n",
       "      <td>Maintenance</td>\n",
       "      <td>Complete</td>\n",
       "      <td>St. Louis</td>\n",
       "      <td>KDG REAL ESTATE LLC</td>\n",
       "      <td>Crump, Darin</td>\n",
       "      <td>Crump, Darin</td>\n",
       "      <td>NaN</td>\n",
       "      <td>Ramsey, Leisa</td>\n",
       "      <td>dcrump20220718083709</td>\n",
       "      <td>RUSH</td>\n",
       "      <td>...</td>\n",
       "      <td>2022-07-18</td>\n",
       "      <td>2022-07-18</td>\n",
       "      <td>2022-07-18</td>\n",
       "      <td>2022-07-18</td>\n",
       "      <td>NaT</td>\n",
       "      <td>2022-07-18</td>\n",
       "      <td>NaT</td>\n",
       "      <td>NaT</td>\n",
       "      <td>2022-07-18 08:42:00</td>\n",
       "      <td>Crump, Darin</td>\n",
       "    </tr>\n",
       "    <tr>\n",
       "      <th>22</th>\n",
       "      <td>Maintenance</td>\n",
       "      <td>Complete</td>\n",
       "      <td>St. Louis</td>\n",
       "      <td>Fischer &amp; Frichtel Custom Homes</td>\n",
       "      <td>Crump, Darin</td>\n",
       "      <td>Crump, Darin</td>\n",
       "      <td>NaN</td>\n",
       "      <td>Madu, Margarita</td>\n",
       "      <td>dcrump20220715144653</td>\n",
       "      <td>NaN</td>\n",
       "      <td>...</td>\n",
       "      <td>2022-07-18</td>\n",
       "      <td>2022-07-18</td>\n",
       "      <td>2022-07-19</td>\n",
       "      <td>2022-07-19</td>\n",
       "      <td>NaT</td>\n",
       "      <td>2022-07-19</td>\n",
       "      <td>NaT</td>\n",
       "      <td>NaT</td>\n",
       "      <td>2022-07-15 14:51:00</td>\n",
       "      <td>Crump, Darin</td>\n",
       "    </tr>\n",
       "    <tr>\n",
       "      <th>23</th>\n",
       "      <td>Maintenance</td>\n",
       "      <td>Complete</td>\n",
       "      <td>St. Louis</td>\n",
       "      <td>SAINT FRANCIS HEALTHCARE SYSTEM</td>\n",
       "      <td>Troutt, Dee</td>\n",
       "      <td>Diecker, Nichole</td>\n",
       "      <td>Burger, Nicholas</td>\n",
       "      <td>Biviji, Munira</td>\n",
       "      <td>ndiecker20220715124623</td>\n",
       "      <td>NaN</td>\n",
       "      <td>...</td>\n",
       "      <td>2022-07-18</td>\n",
       "      <td>2022-07-18</td>\n",
       "      <td>2022-07-19</td>\n",
       "      <td>2022-07-19</td>\n",
       "      <td>NaT</td>\n",
       "      <td>2022-07-19</td>\n",
       "      <td>NaT</td>\n",
       "      <td>2022-07-19</td>\n",
       "      <td>2022-07-15 12:57:00</td>\n",
       "      <td>Diecker, Nichole</td>\n",
       "    </tr>\n",
       "  </tbody>\n",
       "</table>\n",
       "<p>5 rows × 27 columns</p>\n",
       "</div>"
      ],
      "text/plain": [
       "   Request_type Visible_Status     Market                   Parent_Company  \\\n",
       "14  Maintenance       Complete  St. Louis      SOUTHEAST MISSOURI UNIV FDN   \n",
       "18  Maintenance       Complete  St. Louis         DTB HOLDINGS LLC DBA BDC   \n",
       "20  Maintenance       Complete  St. Louis              KDG REAL ESTATE LLC   \n",
       "22  Maintenance       Complete  St. Louis  Fischer & Frichtel Custom Homes   \n",
       "23  Maintenance       Complete  St. Louis  SAINT FRANCIS HEALTHCARE SYSTEM   \n",
       "\n",
       "                TMO               TMS                RM     TIS_assigned  \\\n",
       "14  Chapman, Joseph      Crump, Darin               NaN      Jones, Kyle   \n",
       "18  Chapman, Joseph      Crump, Darin   Brooks, Charles  Griffin, Fatima   \n",
       "20     Crump, Darin      Crump, Darin               NaN    Ramsey, Leisa   \n",
       "22     Crump, Darin      Crump, Darin               NaN  Madu, Margarita   \n",
       "23      Troutt, Dee  Diecker, Nichole  Burger, Nicholas   Biviji, Munira   \n",
       "\n",
       "                      Name Place_Rush  ... Date_upload_TSA_Imaging  \\\n",
       "14  jchapman20220720114538        NaN  ...              2022-07-22   \n",
       "18  jchapman20220718125022        NaN  ...              2022-07-18   \n",
       "20    dcrump20220718083709       RUSH  ...              2022-07-18   \n",
       "22    dcrump20220715144653        NaN  ...              2022-07-18   \n",
       "23  ndiecker20220715124623        NaN  ...              2022-07-18   \n",
       "\n",
       "   Date_send_to_operations Date_Operations_Confirmed Date_emulate_setup  \\\n",
       "14              2022-07-22                2022-07-22         2022-07-22   \n",
       "18              2022-07-18                2022-07-19         2022-07-19   \n",
       "20              2022-07-18                2022-07-18         2022-07-18   \n",
       "22              2022-07-18                2022-07-19         2022-07-19   \n",
       "23              2022-07-18                2022-07-19         2022-07-19   \n",
       "\n",
       "   Date_add_account Date_notify_TMO_TMS Date_train_customer  \\\n",
       "14              NaT          2022-07-22                 NaT   \n",
       "18              NaT          2022-07-19                 NaT   \n",
       "20              NaT          2022-07-18                 NaT   \n",
       "22              NaT          2022-07-19                 NaT   \n",
       "23              NaT          2022-07-19                 NaT   \n",
       "\n",
       "   Date_ complete_insight360   Created_Sort_Desc        Created_By  \n",
       "14                       NaT 2022-07-20 11:51:00   Chapman, Joseph  \n",
       "18                2022-07-19 2022-07-18 12:54:00   Chapman, Joseph  \n",
       "20                       NaT 2022-07-18 08:42:00      Crump, Darin  \n",
       "22                       NaT 2022-07-15 14:51:00      Crump, Darin  \n",
       "23                2022-07-19 2022-07-15 12:57:00  Diecker, Nichole  \n",
       "\n",
       "[5 rows x 27 columns]"
      ]
     },
     "execution_count": 236,
     "metadata": {},
     "output_type": "execute_result"
    }
   ],
   "source": [
    "df_impl = df_impl[df_impl[\"Visible_Status\"] == \"Complete\"]\n",
    "df_impl.head()"
   ]
  },
  {
   "cell_type": "code",
   "execution_count": 237,
   "id": "56727e78",
   "metadata": {},
   "outputs": [
    {
     "data": {
      "text/html": [
       "<div>\n",
       "<style scoped>\n",
       "    .dataframe tbody tr th:only-of-type {\n",
       "        vertical-align: middle;\n",
       "    }\n",
       "\n",
       "    .dataframe tbody tr th {\n",
       "        vertical-align: top;\n",
       "    }\n",
       "\n",
       "    .dataframe thead th {\n",
       "        text-align: right;\n",
       "    }\n",
       "</style>\n",
       "<table border=\"1\" class=\"dataframe\">\n",
       "  <thead>\n",
       "    <tr style=\"text-align: right;\">\n",
       "      <th></th>\n",
       "      <th>Request_type</th>\n",
       "      <th>Visible_Status</th>\n",
       "      <th>Market</th>\n",
       "      <th>Parent_Company</th>\n",
       "      <th>TMO</th>\n",
       "      <th>TMS</th>\n",
       "      <th>RM</th>\n",
       "      <th>TIS_assigned</th>\n",
       "      <th>Name</th>\n",
       "      <th>Place_Rush</th>\n",
       "      <th>...</th>\n",
       "      <th>Date_send_to_operations</th>\n",
       "      <th>Date_Operations_Confirmed</th>\n",
       "      <th>Date_emulate_setup</th>\n",
       "      <th>Date_add_account</th>\n",
       "      <th>Date_notify_TMO_TMS</th>\n",
       "      <th>Date_train_customer</th>\n",
       "      <th>Date_ complete_insight360</th>\n",
       "      <th>Created_Sort_Desc</th>\n",
       "      <th>Created_By</th>\n",
       "      <th>date_complete</th>\n",
       "    </tr>\n",
       "  </thead>\n",
       "  <tbody>\n",
       "    <tr>\n",
       "      <th>14</th>\n",
       "      <td>Maintenance</td>\n",
       "      <td>Complete</td>\n",
       "      <td>St. Louis</td>\n",
       "      <td>SOUTHEAST MISSOURI UNIV FDN</td>\n",
       "      <td>Chapman, Joseph</td>\n",
       "      <td>Crump, Darin</td>\n",
       "      <td>NaN</td>\n",
       "      <td>Jones, Kyle</td>\n",
       "      <td>jchapman20220720114538</td>\n",
       "      <td>NaN</td>\n",
       "      <td>...</td>\n",
       "      <td>2022-07-22</td>\n",
       "      <td>2022-07-22</td>\n",
       "      <td>2022-07-22</td>\n",
       "      <td>NaT</td>\n",
       "      <td>2022-07-22</td>\n",
       "      <td>NaT</td>\n",
       "      <td>NaT</td>\n",
       "      <td>2022-07-20 11:51:00</td>\n",
       "      <td>Chapman, Joseph</td>\n",
       "      <td>2022-07-22</td>\n",
       "    </tr>\n",
       "    <tr>\n",
       "      <th>18</th>\n",
       "      <td>Maintenance</td>\n",
       "      <td>Complete</td>\n",
       "      <td>St. Louis</td>\n",
       "      <td>DTB HOLDINGS LLC DBA BDC</td>\n",
       "      <td>Chapman, Joseph</td>\n",
       "      <td>Crump, Darin</td>\n",
       "      <td>Brooks, Charles</td>\n",
       "      <td>Griffin, Fatima</td>\n",
       "      <td>jchapman20220718125022</td>\n",
       "      <td>NaN</td>\n",
       "      <td>...</td>\n",
       "      <td>2022-07-18</td>\n",
       "      <td>2022-07-19</td>\n",
       "      <td>2022-07-19</td>\n",
       "      <td>NaT</td>\n",
       "      <td>2022-07-19</td>\n",
       "      <td>NaT</td>\n",
       "      <td>2022-07-19</td>\n",
       "      <td>2022-07-18 12:54:00</td>\n",
       "      <td>Chapman, Joseph</td>\n",
       "      <td>2022-07-19</td>\n",
       "    </tr>\n",
       "    <tr>\n",
       "      <th>20</th>\n",
       "      <td>Maintenance</td>\n",
       "      <td>Complete</td>\n",
       "      <td>St. Louis</td>\n",
       "      <td>KDG REAL ESTATE LLC</td>\n",
       "      <td>Crump, Darin</td>\n",
       "      <td>Crump, Darin</td>\n",
       "      <td>NaN</td>\n",
       "      <td>Ramsey, Leisa</td>\n",
       "      <td>dcrump20220718083709</td>\n",
       "      <td>RUSH</td>\n",
       "      <td>...</td>\n",
       "      <td>2022-07-18</td>\n",
       "      <td>2022-07-18</td>\n",
       "      <td>2022-07-18</td>\n",
       "      <td>NaT</td>\n",
       "      <td>2022-07-18</td>\n",
       "      <td>NaT</td>\n",
       "      <td>NaT</td>\n",
       "      <td>2022-07-18 08:42:00</td>\n",
       "      <td>Crump, Darin</td>\n",
       "      <td>2022-07-18</td>\n",
       "    </tr>\n",
       "    <tr>\n",
       "      <th>22</th>\n",
       "      <td>Maintenance</td>\n",
       "      <td>Complete</td>\n",
       "      <td>St. Louis</td>\n",
       "      <td>Fischer &amp; Frichtel Custom Homes</td>\n",
       "      <td>Crump, Darin</td>\n",
       "      <td>Crump, Darin</td>\n",
       "      <td>NaN</td>\n",
       "      <td>Madu, Margarita</td>\n",
       "      <td>dcrump20220715144653</td>\n",
       "      <td>NaN</td>\n",
       "      <td>...</td>\n",
       "      <td>2022-07-18</td>\n",
       "      <td>2022-07-19</td>\n",
       "      <td>2022-07-19</td>\n",
       "      <td>NaT</td>\n",
       "      <td>2022-07-19</td>\n",
       "      <td>NaT</td>\n",
       "      <td>NaT</td>\n",
       "      <td>2022-07-15 14:51:00</td>\n",
       "      <td>Crump, Darin</td>\n",
       "      <td>2022-07-19</td>\n",
       "    </tr>\n",
       "    <tr>\n",
       "      <th>23</th>\n",
       "      <td>Maintenance</td>\n",
       "      <td>Complete</td>\n",
       "      <td>St. Louis</td>\n",
       "      <td>SAINT FRANCIS HEALTHCARE SYSTEM</td>\n",
       "      <td>Troutt, Dee</td>\n",
       "      <td>Diecker, Nichole</td>\n",
       "      <td>Burger, Nicholas</td>\n",
       "      <td>Biviji, Munira</td>\n",
       "      <td>ndiecker20220715124623</td>\n",
       "      <td>NaN</td>\n",
       "      <td>...</td>\n",
       "      <td>2022-07-18</td>\n",
       "      <td>2022-07-19</td>\n",
       "      <td>2022-07-19</td>\n",
       "      <td>NaT</td>\n",
       "      <td>2022-07-19</td>\n",
       "      <td>NaT</td>\n",
       "      <td>2022-07-19</td>\n",
       "      <td>2022-07-15 12:57:00</td>\n",
       "      <td>Diecker, Nichole</td>\n",
       "      <td>2022-07-19</td>\n",
       "    </tr>\n",
       "  </tbody>\n",
       "</table>\n",
       "<p>5 rows × 28 columns</p>\n",
       "</div>"
      ],
      "text/plain": [
       "   Request_type Visible_Status     Market                   Parent_Company  \\\n",
       "14  Maintenance       Complete  St. Louis      SOUTHEAST MISSOURI UNIV FDN   \n",
       "18  Maintenance       Complete  St. Louis         DTB HOLDINGS LLC DBA BDC   \n",
       "20  Maintenance       Complete  St. Louis              KDG REAL ESTATE LLC   \n",
       "22  Maintenance       Complete  St. Louis  Fischer & Frichtel Custom Homes   \n",
       "23  Maintenance       Complete  St. Louis  SAINT FRANCIS HEALTHCARE SYSTEM   \n",
       "\n",
       "                TMO               TMS                RM     TIS_assigned  \\\n",
       "14  Chapman, Joseph      Crump, Darin               NaN      Jones, Kyle   \n",
       "18  Chapman, Joseph      Crump, Darin   Brooks, Charles  Griffin, Fatima   \n",
       "20     Crump, Darin      Crump, Darin               NaN    Ramsey, Leisa   \n",
       "22     Crump, Darin      Crump, Darin               NaN  Madu, Margarita   \n",
       "23      Troutt, Dee  Diecker, Nichole  Burger, Nicholas   Biviji, Munira   \n",
       "\n",
       "                      Name Place_Rush  ... Date_send_to_operations  \\\n",
       "14  jchapman20220720114538        NaN  ...              2022-07-22   \n",
       "18  jchapman20220718125022        NaN  ...              2022-07-18   \n",
       "20    dcrump20220718083709       RUSH  ...              2022-07-18   \n",
       "22    dcrump20220715144653        NaN  ...              2022-07-18   \n",
       "23  ndiecker20220715124623        NaN  ...              2022-07-18   \n",
       "\n",
       "   Date_Operations_Confirmed Date_emulate_setup Date_add_account  \\\n",
       "14                2022-07-22         2022-07-22              NaT   \n",
       "18                2022-07-19         2022-07-19              NaT   \n",
       "20                2022-07-18         2022-07-18              NaT   \n",
       "22                2022-07-19         2022-07-19              NaT   \n",
       "23                2022-07-19         2022-07-19              NaT   \n",
       "\n",
       "   Date_notify_TMO_TMS Date_train_customer Date_ complete_insight360  \\\n",
       "14          2022-07-22                 NaT                       NaT   \n",
       "18          2022-07-19                 NaT                2022-07-19   \n",
       "20          2022-07-18                 NaT                       NaT   \n",
       "22          2022-07-19                 NaT                       NaT   \n",
       "23          2022-07-19                 NaT                2022-07-19   \n",
       "\n",
       "     Created_Sort_Desc        Created_By date_complete  \n",
       "14 2022-07-20 11:51:00   Chapman, Joseph    2022-07-22  \n",
       "18 2022-07-18 12:54:00   Chapman, Joseph    2022-07-19  \n",
       "20 2022-07-18 08:42:00      Crump, Darin    2022-07-18  \n",
       "22 2022-07-15 14:51:00      Crump, Darin    2022-07-19  \n",
       "23 2022-07-15 12:57:00  Diecker, Nichole    2022-07-19  \n",
       "\n",
       "[5 rows x 28 columns]"
      ]
     },
     "execution_count": 237,
     "metadata": {},
     "output_type": "execute_result"
    }
   ],
   "source": [
    "df_impl['date_complete'] = df_impl.apply(lambda row: row['Date_notify_TMO_TMS']\\\n",
    "                             if row['Date_notify_TMO_TMS']!=pd.NaT\\\n",
    "                             else row['Date_complete_insight360'], \\\n",
    "                             axis=1)\n",
    "df_impl.head()"
   ]
  },
  {
   "cell_type": "code",
   "execution_count": 238,
   "id": "5d2d051a",
   "metadata": {},
   "outputs": [
    {
     "data": {
      "text/html": [
       "<div>\n",
       "<style scoped>\n",
       "    .dataframe tbody tr th:only-of-type {\n",
       "        vertical-align: middle;\n",
       "    }\n",
       "\n",
       "    .dataframe tbody tr th {\n",
       "        vertical-align: top;\n",
       "    }\n",
       "\n",
       "    .dataframe thead th {\n",
       "        text-align: right;\n",
       "    }\n",
       "</style>\n",
       "<table border=\"1\" class=\"dataframe\">\n",
       "  <thead>\n",
       "    <tr style=\"text-align: right;\">\n",
       "      <th></th>\n",
       "      <th>Request_type</th>\n",
       "      <th>Visible_Status</th>\n",
       "      <th>Market</th>\n",
       "      <th>Parent_Company</th>\n",
       "      <th>TMO</th>\n",
       "      <th>TMS</th>\n",
       "      <th>RM</th>\n",
       "      <th>TIS_assigned</th>\n",
       "      <th>Name</th>\n",
       "      <th>Place_Rush</th>\n",
       "      <th>...</th>\n",
       "      <th>Date_Operations_Confirmed</th>\n",
       "      <th>Date_emulate_setup</th>\n",
       "      <th>Date_add_account</th>\n",
       "      <th>Date_notify_TMO_TMS</th>\n",
       "      <th>Date_train_customer</th>\n",
       "      <th>Date_ complete_insight360</th>\n",
       "      <th>Created_Sort_Desc</th>\n",
       "      <th>Created_By</th>\n",
       "      <th>date_complete</th>\n",
       "      <th>days_complete</th>\n",
       "    </tr>\n",
       "  </thead>\n",
       "  <tbody>\n",
       "    <tr>\n",
       "      <th>14</th>\n",
       "      <td>Maintenance</td>\n",
       "      <td>Complete</td>\n",
       "      <td>St. Louis</td>\n",
       "      <td>SOUTHEAST MISSOURI UNIV FDN</td>\n",
       "      <td>Chapman, Joseph</td>\n",
       "      <td>Crump, Darin</td>\n",
       "      <td>NaN</td>\n",
       "      <td>Jones, Kyle</td>\n",
       "      <td>jchapman20220720114538</td>\n",
       "      <td>NaN</td>\n",
       "      <td>...</td>\n",
       "      <td>2022-07-22</td>\n",
       "      <td>2022-07-22</td>\n",
       "      <td>NaT</td>\n",
       "      <td>2022-07-22</td>\n",
       "      <td>NaT</td>\n",
       "      <td>NaT</td>\n",
       "      <td>2022-07-20 11:51:00</td>\n",
       "      <td>Chapman, Joseph</td>\n",
       "      <td>2022-07-22</td>\n",
       "      <td>1 days 12:09:00</td>\n",
       "    </tr>\n",
       "    <tr>\n",
       "      <th>18</th>\n",
       "      <td>Maintenance</td>\n",
       "      <td>Complete</td>\n",
       "      <td>St. Louis</td>\n",
       "      <td>DTB HOLDINGS LLC DBA BDC</td>\n",
       "      <td>Chapman, Joseph</td>\n",
       "      <td>Crump, Darin</td>\n",
       "      <td>Brooks, Charles</td>\n",
       "      <td>Griffin, Fatima</td>\n",
       "      <td>jchapman20220718125022</td>\n",
       "      <td>NaN</td>\n",
       "      <td>...</td>\n",
       "      <td>2022-07-19</td>\n",
       "      <td>2022-07-19</td>\n",
       "      <td>NaT</td>\n",
       "      <td>2022-07-19</td>\n",
       "      <td>NaT</td>\n",
       "      <td>2022-07-19</td>\n",
       "      <td>2022-07-18 12:54:00</td>\n",
       "      <td>Chapman, Joseph</td>\n",
       "      <td>2022-07-19</td>\n",
       "      <td>0 days 11:06:00</td>\n",
       "    </tr>\n",
       "    <tr>\n",
       "      <th>20</th>\n",
       "      <td>Maintenance</td>\n",
       "      <td>Complete</td>\n",
       "      <td>St. Louis</td>\n",
       "      <td>KDG REAL ESTATE LLC</td>\n",
       "      <td>Crump, Darin</td>\n",
       "      <td>Crump, Darin</td>\n",
       "      <td>NaN</td>\n",
       "      <td>Ramsey, Leisa</td>\n",
       "      <td>dcrump20220718083709</td>\n",
       "      <td>RUSH</td>\n",
       "      <td>...</td>\n",
       "      <td>2022-07-18</td>\n",
       "      <td>2022-07-18</td>\n",
       "      <td>NaT</td>\n",
       "      <td>2022-07-18</td>\n",
       "      <td>NaT</td>\n",
       "      <td>NaT</td>\n",
       "      <td>2022-07-18 08:42:00</td>\n",
       "      <td>Crump, Darin</td>\n",
       "      <td>2022-07-18</td>\n",
       "      <td>-1 days +15:18:00</td>\n",
       "    </tr>\n",
       "    <tr>\n",
       "      <th>22</th>\n",
       "      <td>Maintenance</td>\n",
       "      <td>Complete</td>\n",
       "      <td>St. Louis</td>\n",
       "      <td>Fischer &amp; Frichtel Custom Homes</td>\n",
       "      <td>Crump, Darin</td>\n",
       "      <td>Crump, Darin</td>\n",
       "      <td>NaN</td>\n",
       "      <td>Madu, Margarita</td>\n",
       "      <td>dcrump20220715144653</td>\n",
       "      <td>NaN</td>\n",
       "      <td>...</td>\n",
       "      <td>2022-07-19</td>\n",
       "      <td>2022-07-19</td>\n",
       "      <td>NaT</td>\n",
       "      <td>2022-07-19</td>\n",
       "      <td>NaT</td>\n",
       "      <td>NaT</td>\n",
       "      <td>2022-07-15 14:51:00</td>\n",
       "      <td>Crump, Darin</td>\n",
       "      <td>2022-07-19</td>\n",
       "      <td>3 days 09:09:00</td>\n",
       "    </tr>\n",
       "    <tr>\n",
       "      <th>23</th>\n",
       "      <td>Maintenance</td>\n",
       "      <td>Complete</td>\n",
       "      <td>St. Louis</td>\n",
       "      <td>SAINT FRANCIS HEALTHCARE SYSTEM</td>\n",
       "      <td>Troutt, Dee</td>\n",
       "      <td>Diecker, Nichole</td>\n",
       "      <td>Burger, Nicholas</td>\n",
       "      <td>Biviji, Munira</td>\n",
       "      <td>ndiecker20220715124623</td>\n",
       "      <td>NaN</td>\n",
       "      <td>...</td>\n",
       "      <td>2022-07-19</td>\n",
       "      <td>2022-07-19</td>\n",
       "      <td>NaT</td>\n",
       "      <td>2022-07-19</td>\n",
       "      <td>NaT</td>\n",
       "      <td>2022-07-19</td>\n",
       "      <td>2022-07-15 12:57:00</td>\n",
       "      <td>Diecker, Nichole</td>\n",
       "      <td>2022-07-19</td>\n",
       "      <td>3 days 11:03:00</td>\n",
       "    </tr>\n",
       "  </tbody>\n",
       "</table>\n",
       "<p>5 rows × 29 columns</p>\n",
       "</div>"
      ],
      "text/plain": [
       "   Request_type Visible_Status     Market                   Parent_Company  \\\n",
       "14  Maintenance       Complete  St. Louis      SOUTHEAST MISSOURI UNIV FDN   \n",
       "18  Maintenance       Complete  St. Louis         DTB HOLDINGS LLC DBA BDC   \n",
       "20  Maintenance       Complete  St. Louis              KDG REAL ESTATE LLC   \n",
       "22  Maintenance       Complete  St. Louis  Fischer & Frichtel Custom Homes   \n",
       "23  Maintenance       Complete  St. Louis  SAINT FRANCIS HEALTHCARE SYSTEM   \n",
       "\n",
       "                TMO               TMS                RM     TIS_assigned  \\\n",
       "14  Chapman, Joseph      Crump, Darin               NaN      Jones, Kyle   \n",
       "18  Chapman, Joseph      Crump, Darin   Brooks, Charles  Griffin, Fatima   \n",
       "20     Crump, Darin      Crump, Darin               NaN    Ramsey, Leisa   \n",
       "22     Crump, Darin      Crump, Darin               NaN  Madu, Margarita   \n",
       "23      Troutt, Dee  Diecker, Nichole  Burger, Nicholas   Biviji, Munira   \n",
       "\n",
       "                      Name Place_Rush  ... Date_Operations_Confirmed  \\\n",
       "14  jchapman20220720114538        NaN  ...                2022-07-22   \n",
       "18  jchapman20220718125022        NaN  ...                2022-07-19   \n",
       "20    dcrump20220718083709       RUSH  ...                2022-07-18   \n",
       "22    dcrump20220715144653        NaN  ...                2022-07-19   \n",
       "23  ndiecker20220715124623        NaN  ...                2022-07-19   \n",
       "\n",
       "   Date_emulate_setup Date_add_account Date_notify_TMO_TMS  \\\n",
       "14         2022-07-22              NaT          2022-07-22   \n",
       "18         2022-07-19              NaT          2022-07-19   \n",
       "20         2022-07-18              NaT          2022-07-18   \n",
       "22         2022-07-19              NaT          2022-07-19   \n",
       "23         2022-07-19              NaT          2022-07-19   \n",
       "\n",
       "   Date_train_customer Date_ complete_insight360   Created_Sort_Desc  \\\n",
       "14                 NaT                       NaT 2022-07-20 11:51:00   \n",
       "18                 NaT                2022-07-19 2022-07-18 12:54:00   \n",
       "20                 NaT                       NaT 2022-07-18 08:42:00   \n",
       "22                 NaT                       NaT 2022-07-15 14:51:00   \n",
       "23                 NaT                2022-07-19 2022-07-15 12:57:00   \n",
       "\n",
       "          Created_By date_complete     days_complete  \n",
       "14   Chapman, Joseph    2022-07-22   1 days 12:09:00  \n",
       "18   Chapman, Joseph    2022-07-19   0 days 11:06:00  \n",
       "20      Crump, Darin    2022-07-18 -1 days +15:18:00  \n",
       "22      Crump, Darin    2022-07-19   3 days 09:09:00  \n",
       "23  Diecker, Nichole    2022-07-19   3 days 11:03:00  \n",
       "\n",
       "[5 rows x 29 columns]"
      ]
     },
     "execution_count": 238,
     "metadata": {},
     "output_type": "execute_result"
    }
   ],
   "source": [
    "df_impl['days_complete'] = df_impl.apply(lambda row: row['date_complete'] - row['Created_Sort_Desc'],\\\n",
    "                             axis=1)\n",
    "df_impl.head()"
   ]
  },
  {
   "cell_type": "code",
   "execution_count": 239,
   "id": "7fd56432",
   "metadata": {},
   "outputs": [
    {
     "data": {
      "text/plain": [
       "Timedelta('6 days 18:54:20')"
      ]
     },
     "execution_count": 239,
     "metadata": {},
     "output_type": "execute_result"
    }
   ],
   "source": [
    "df_impl.days_complete.mean()"
   ]
  },
  {
   "cell_type": "code",
   "execution_count": 240,
   "id": "3cbf54cf",
   "metadata": {},
   "outputs": [
    {
     "data": {
      "text/plain": [
       "Timedelta('6 days 21:31:10.805923744')"
      ]
     },
     "execution_count": 240,
     "metadata": {},
     "output_type": "execute_result"
    }
   ],
   "source": [
    "df_impl.days_complete.std()"
   ]
  },
  {
   "cell_type": "code",
   "execution_count": 241,
   "id": "24fa48cf",
   "metadata": {},
   "outputs": [
    {
     "data": {
      "text/plain": [
       "Timedelta('5 days 11:17:30')"
      ]
     },
     "execution_count": 241,
     "metadata": {},
     "output_type": "execute_result"
    }
   ],
   "source": [
    "df_impl.days_complete.median()"
   ]
  },
  {
   "cell_type": "code",
   "execution_count": 242,
   "id": "550190ab",
   "metadata": {},
   "outputs": [],
   "source": [
    "df_impl = df_impl.query('days_complete.notna().values')"
   ]
  },
  {
   "cell_type": "code",
   "execution_count": 243,
   "id": "f367e806",
   "metadata": {},
   "outputs": [
    {
     "data": {
      "text/plain": [
       "114"
      ]
     },
     "execution_count": 243,
     "metadata": {},
     "output_type": "execute_result"
    }
   ],
   "source": [
    "len(df_impl)"
   ]
  },
  {
   "cell_type": "code",
   "execution_count": 244,
   "id": "9eea1533",
   "metadata": {},
   "outputs": [
    {
     "data": {
      "text/plain": [
       "<AxesSubplot:title={'center':'Days Completed by Date Created'}, xlabel='Date Created', ylabel='Days to Complete'>"
      ]
     },
     "execution_count": 244,
     "metadata": {},
     "output_type": "execute_result"
    },
    {
     "data": {
      "image/png": "[encoded data removed]",
      "text/plain": [
       "<Figure size 432x288 with 1 Axes>"
      ]
     },
     "metadata": {
      "needs_background": "light"
     },
     "output_type": "display_data"
    }
   ],
   "source": [
    "df_impl.plot(legend=False,x='Created_Sort_Desc',y='days_complete',title='Days Completed by Date Created', ylabel='Days to Complete', xlabel='Date Created')"
   ]
  },
  {
   "cell_type": "code",
   "execution_count": 245,
   "id": "3ac8726f",
   "metadata": {},
   "outputs": [
    {
     "data": {
      "text/plain": [
       "month_created\n",
       "July    AxesSubplot(0.125,0.2;0.775x0.68)\n",
       "June    AxesSubplot(0.125,0.2;0.775x0.68)\n",
       "Name: days_complete, dtype: object"
      ]
     },
     "execution_count": 245,
     "metadata": {},
     "output_type": "execute_result"
    },
    {
     "data": {
      "image/png": "[encoded data removed]",
      "text/plain": [
       "<Figure size 432x288 with 1 Axes>"
      ]
     },
     "metadata": {
      "needs_background": "light"
     },
     "output_type": "display_data"
    }
   ],
   "source": [
    "df_new2 = df_impl.copy(deep=True)\n",
    "df_new2['month_created'] = df_new2['Created_Sort_Desc'].dt.month\n",
    "df_new2['month_created'] = df_new2['month_created'].astype(int)\n",
    "\n",
    "df_new2['month_created'] = df_new2.apply(lambda row: 'June' if row['month_created']==6\\\n",
    "                             else 'July', axis=1)\n",
    "\n",
    "df_new2.set_index('Created_Sort_Desc', inplace=True)\n",
    "df_new2.groupby('month_created')['days_complete'].plot(legend=True, title='Days Completed by Date Created and Month', ylabel='Days to Complete', xlabel='Date Created')"
   ]
  },
  {
   "cell_type": "code",
   "execution_count": 247,
   "id": "429e06ea",
   "metadata": {},
   "outputs": [
    {
     "data": {
      "text/plain": [
       "Request_type\n",
       "Close Account(s)      9\n",
       "Expanded Business    22\n",
       "Maintenance          81\n",
       "New Relationship      2\n",
       "dtype: int64"
      ]
     },
     "execution_count": 247,
     "metadata": {},
     "output_type": "execute_result"
    }
   ],
   "source": [
    "df_impl.groupby(['Request_type']).size()"
   ]
  },
  {
   "cell_type": "code",
   "execution_count": 290,
   "id": "f611b82e",
   "metadata": {},
   "outputs": [
    {
     "data": {
      "text/plain": [
       "Request_type\n",
       "Close Account(s)      7.894737\n",
       "Expanded Business    19.298246\n",
       "Maintenance          71.052632\n",
       "New Relationship      1.754386\n",
       "dtype: float64"
      ]
     },
     "execution_count": 290,
     "metadata": {},
     "output_type": "execute_result"
    }
   ],
   "source": [
    "df_impl.groupby(['Request_type']).size() / len(df_impl) * 100"
   ]
  },
  {
   "cell_type": "code",
   "execution_count": 248,
   "id": "0f0d2dd9",
   "metadata": {},
   "outputs": [
    {
     "data": {
      "text/plain": [
       "Request_type\n",
       "Close Account(s)     6 days 19:49:53.333333333\n",
       "Expanded Business   11 days 10:11:32.727272727\n",
       "Maintenance          5 days 11:52:42.222222222\n",
       "New Relationship               7 days 23:11:00\n",
       "Name: days_complete, dtype: timedelta64[ns]"
      ]
     },
     "execution_count": 248,
     "metadata": {},
     "output_type": "execute_result"
    }
   ],
   "source": [
    "df_impl.groupby(['Request_type']).days_complete.mean()"
   ]
  },
  {
   "cell_type": "code",
   "execution_count": 249,
   "id": "b0ba7c8f",
   "metadata": {},
   "outputs": [
    {
     "data": {
      "text/plain": [
       "Request_type\n",
       "Close Account(s)    3 days 16:34:43.241885734\n",
       "Expanded Business   8 days 21:18:37.139008806\n",
       "Maintenance         5 days 20:55:55.209729343\n",
       "New Relationship              7 days 09:57:00\n",
       "Name: days_complete, dtype: timedelta64[ns]"
      ]
     },
     "execution_count": 249,
     "metadata": {},
     "output_type": "execute_result"
    }
   ],
   "source": [
    "df_impl.groupby('Request_type')['days_complete'].apply(lambda x: np.std(x))"
   ]
  },
  {
   "cell_type": "code",
   "execution_count": 250,
   "id": "c678c84e",
   "metadata": {},
   "outputs": [
    {
     "data": {
      "text/plain": [
       "Request_type\n",
       "Close Account(s)    6 days 10:05:00\n",
       "Expanded Business   9 days 12:48:00\n",
       "Maintenance         3 days 16:06:00\n",
       "New Relationship    7 days 23:11:00\n",
       "Name: days_complete, dtype: timedelta64[ns]"
      ]
     },
     "execution_count": 250,
     "metadata": {},
     "output_type": "execute_result"
    }
   ],
   "source": [
    "df_impl.groupby(['Request_type']).days_complete.median()"
   ]
  },
  {
   "cell_type": "code",
   "execution_count": 251,
   "id": "0f064a89",
   "metadata": {},
   "outputs": [
    {
     "data": {
      "text/html": [
       "<div>\n",
       "<style scoped>\n",
       "    .dataframe tbody tr th:only-of-type {\n",
       "        vertical-align: middle;\n",
       "    }\n",
       "\n",
       "    .dataframe tbody tr th {\n",
       "        vertical-align: top;\n",
       "    }\n",
       "\n",
       "    .dataframe thead th {\n",
       "        text-align: right;\n",
       "    }\n",
       "</style>\n",
       "<table border=\"1\" class=\"dataframe\">\n",
       "  <thead>\n",
       "    <tr style=\"text-align: right;\">\n",
       "      <th></th>\n",
       "      <th>Request_type</th>\n",
       "      <th>Visible_Status</th>\n",
       "      <th>Market</th>\n",
       "      <th>Parent_Company</th>\n",
       "      <th>TMO</th>\n",
       "      <th>TMS</th>\n",
       "      <th>RM</th>\n",
       "      <th>TIS_assigned</th>\n",
       "      <th>Name</th>\n",
       "      <th>Place_Rush</th>\n",
       "      <th>...</th>\n",
       "      <th>Date_Operations_Confirmed</th>\n",
       "      <th>Date_emulate_setup</th>\n",
       "      <th>Date_add_account</th>\n",
       "      <th>Date_notify_TMO_TMS</th>\n",
       "      <th>Date_train_customer</th>\n",
       "      <th>Date_ complete_insight360</th>\n",
       "      <th>Created_Sort_Desc</th>\n",
       "      <th>Created_By</th>\n",
       "      <th>date_complete</th>\n",
       "      <th>days_complete</th>\n",
       "    </tr>\n",
       "  </thead>\n",
       "  <tbody>\n",
       "    <tr>\n",
       "      <th>14</th>\n",
       "      <td>Maintenance</td>\n",
       "      <td>Complete</td>\n",
       "      <td>St. Louis</td>\n",
       "      <td>SOUTHEAST MISSOURI UNIV FDN</td>\n",
       "      <td>Chapman, Joseph</td>\n",
       "      <td>Crump, Darin</td>\n",
       "      <td>NaN</td>\n",
       "      <td>Jones, Kyle</td>\n",
       "      <td>jchapman20220720114538</td>\n",
       "      <td>NaN</td>\n",
       "      <td>...</td>\n",
       "      <td>2022-07-22</td>\n",
       "      <td>2022-07-22</td>\n",
       "      <td>NaT</td>\n",
       "      <td>2022-07-22</td>\n",
       "      <td>NaT</td>\n",
       "      <td>NaT</td>\n",
       "      <td>2022-07-20 11:51:00</td>\n",
       "      <td>Chapman, Joseph</td>\n",
       "      <td>2022-07-22</td>\n",
       "      <td>1 days 12:09:00</td>\n",
       "    </tr>\n",
       "    <tr>\n",
       "      <th>18</th>\n",
       "      <td>Maintenance</td>\n",
       "      <td>Complete</td>\n",
       "      <td>St. Louis</td>\n",
       "      <td>DTB HOLDINGS LLC DBA BDC</td>\n",
       "      <td>Chapman, Joseph</td>\n",
       "      <td>Crump, Darin</td>\n",
       "      <td>Brooks, Charles</td>\n",
       "      <td>Griffin, Fatima</td>\n",
       "      <td>jchapman20220718125022</td>\n",
       "      <td>NaN</td>\n",
       "      <td>...</td>\n",
       "      <td>2022-07-19</td>\n",
       "      <td>2022-07-19</td>\n",
       "      <td>NaT</td>\n",
       "      <td>2022-07-19</td>\n",
       "      <td>NaT</td>\n",
       "      <td>2022-07-19</td>\n",
       "      <td>2022-07-18 12:54:00</td>\n",
       "      <td>Chapman, Joseph</td>\n",
       "      <td>2022-07-19</td>\n",
       "      <td>0 days 11:06:00</td>\n",
       "    </tr>\n",
       "    <tr>\n",
       "      <th>20</th>\n",
       "      <td>Maintenance</td>\n",
       "      <td>Complete</td>\n",
       "      <td>St. Louis</td>\n",
       "      <td>KDG REAL ESTATE LLC</td>\n",
       "      <td>Crump, Darin</td>\n",
       "      <td>Crump, Darin</td>\n",
       "      <td>NaN</td>\n",
       "      <td>Ramsey, Leisa</td>\n",
       "      <td>dcrump20220718083709</td>\n",
       "      <td>RUSH</td>\n",
       "      <td>...</td>\n",
       "      <td>2022-07-18</td>\n",
       "      <td>2022-07-18</td>\n",
       "      <td>NaT</td>\n",
       "      <td>2022-07-18</td>\n",
       "      <td>NaT</td>\n",
       "      <td>NaT</td>\n",
       "      <td>2022-07-18 08:42:00</td>\n",
       "      <td>Crump, Darin</td>\n",
       "      <td>2022-07-18</td>\n",
       "      <td>-1 days +15:18:00</td>\n",
       "    </tr>\n",
       "    <tr>\n",
       "      <th>22</th>\n",
       "      <td>Maintenance</td>\n",
       "      <td>Complete</td>\n",
       "      <td>St. Louis</td>\n",
       "      <td>Fischer &amp; Frichtel Custom Homes</td>\n",
       "      <td>Crump, Darin</td>\n",
       "      <td>Crump, Darin</td>\n",
       "      <td>NaN</td>\n",
       "      <td>Madu, Margarita</td>\n",
       "      <td>dcrump20220715144653</td>\n",
       "      <td>NaN</td>\n",
       "      <td>...</td>\n",
       "      <td>2022-07-19</td>\n",
       "      <td>2022-07-19</td>\n",
       "      <td>NaT</td>\n",
       "      <td>2022-07-19</td>\n",
       "      <td>NaT</td>\n",
       "      <td>NaT</td>\n",
       "      <td>2022-07-15 14:51:00</td>\n",
       "      <td>Crump, Darin</td>\n",
       "      <td>2022-07-19</td>\n",
       "      <td>3 days 09:09:00</td>\n",
       "    </tr>\n",
       "    <tr>\n",
       "      <th>23</th>\n",
       "      <td>Maintenance</td>\n",
       "      <td>Complete</td>\n",
       "      <td>St. Louis</td>\n",
       "      <td>SAINT FRANCIS HEALTHCARE SYSTEM</td>\n",
       "      <td>Troutt, Dee</td>\n",
       "      <td>Diecker, Nichole</td>\n",
       "      <td>Burger, Nicholas</td>\n",
       "      <td>Biviji, Munira</td>\n",
       "      <td>ndiecker20220715124623</td>\n",
       "      <td>NaN</td>\n",
       "      <td>...</td>\n",
       "      <td>2022-07-19</td>\n",
       "      <td>2022-07-19</td>\n",
       "      <td>NaT</td>\n",
       "      <td>2022-07-19</td>\n",
       "      <td>NaT</td>\n",
       "      <td>2022-07-19</td>\n",
       "      <td>2022-07-15 12:57:00</td>\n",
       "      <td>Diecker, Nichole</td>\n",
       "      <td>2022-07-19</td>\n",
       "      <td>3 days 11:03:00</td>\n",
       "    </tr>\n",
       "  </tbody>\n",
       "</table>\n",
       "<p>5 rows × 29 columns</p>\n",
       "</div>"
      ],
      "text/plain": [
       "   Request_type Visible_Status     Market                   Parent_Company  \\\n",
       "14  Maintenance       Complete  St. Louis      SOUTHEAST MISSOURI UNIV FDN   \n",
       "18  Maintenance       Complete  St. Louis         DTB HOLDINGS LLC DBA BDC   \n",
       "20  Maintenance       Complete  St. Louis              KDG REAL ESTATE LLC   \n",
       "22  Maintenance       Complete  St. Louis  Fischer & Frichtel Custom Homes   \n",
       "23  Maintenance       Complete  St. Louis  SAINT FRANCIS HEALTHCARE SYSTEM   \n",
       "\n",
       "                TMO               TMS                RM     TIS_assigned  \\\n",
       "14  Chapman, Joseph      Crump, Darin               NaN      Jones, Kyle   \n",
       "18  Chapman, Joseph      Crump, Darin   Brooks, Charles  Griffin, Fatima   \n",
       "20     Crump, Darin      Crump, Darin               NaN    Ramsey, Leisa   \n",
       "22     Crump, Darin      Crump, Darin               NaN  Madu, Margarita   \n",
       "23      Troutt, Dee  Diecker, Nichole  Burger, Nicholas   Biviji, Munira   \n",
       "\n",
       "                      Name Place_Rush  ... Date_Operations_Confirmed  \\\n",
       "14  jchapman20220720114538        NaN  ...                2022-07-22   \n",
       "18  jchapman20220718125022        NaN  ...                2022-07-19   \n",
       "20    dcrump20220718083709       RUSH  ...                2022-07-18   \n",
       "22    dcrump20220715144653        NaN  ...                2022-07-19   \n",
       "23  ndiecker20220715124623        NaN  ...                2022-07-19   \n",
       "\n",
       "   Date_emulate_setup Date_add_account Date_notify_TMO_TMS  \\\n",
       "14         2022-07-22              NaT          2022-07-22   \n",
       "18         2022-07-19              NaT          2022-07-19   \n",
       "20         2022-07-18              NaT          2022-07-18   \n",
       "22         2022-07-19              NaT          2022-07-19   \n",
       "23         2022-07-19              NaT          2022-07-19   \n",
       "\n",
       "   Date_train_customer Date_ complete_insight360   Created_Sort_Desc  \\\n",
       "14                 NaT                       NaT 2022-07-20 11:51:00   \n",
       "18                 NaT                2022-07-19 2022-07-18 12:54:00   \n",
       "20                 NaT                       NaT 2022-07-18 08:42:00   \n",
       "22                 NaT                       NaT 2022-07-15 14:51:00   \n",
       "23                 NaT                2022-07-19 2022-07-15 12:57:00   \n",
       "\n",
       "          Created_By date_complete     days_complete  \n",
       "14   Chapman, Joseph    2022-07-22   1 days 12:09:00  \n",
       "18   Chapman, Joseph    2022-07-19   0 days 11:06:00  \n",
       "20      Crump, Darin    2022-07-18 -1 days +15:18:00  \n",
       "22      Crump, Darin    2022-07-19   3 days 09:09:00  \n",
       "23  Diecker, Nichole    2022-07-19   3 days 11:03:00  \n",
       "\n",
       "[5 rows x 29 columns]"
      ]
     },
     "execution_count": 251,
     "metadata": {},
     "output_type": "execute_result"
    }
   ],
   "source": [
    "df_new = df_impl.copy(deep=True)\n",
    "#df_new['Created_Sort_Desc'] = df_new.Created_Sort_Desc.dt.strftime(\"%d/%m/%Y, %H:%M:%S\")\n",
    "df_new.head()"
   ]
  },
  {
   "cell_type": "code",
   "execution_count": 252,
   "id": "27e3d5d4",
   "metadata": {},
   "outputs": [
    {
     "data": {
      "text/html": [
       "<div>\n",
       "<style scoped>\n",
       "    .dataframe tbody tr th:only-of-type {\n",
       "        vertical-align: middle;\n",
       "    }\n",
       "\n",
       "    .dataframe tbody tr th {\n",
       "        vertical-align: top;\n",
       "    }\n",
       "\n",
       "    .dataframe thead th {\n",
       "        text-align: right;\n",
       "    }\n",
       "</style>\n",
       "<table border=\"1\" class=\"dataframe\">\n",
       "  <thead>\n",
       "    <tr style=\"text-align: right;\">\n",
       "      <th></th>\n",
       "      <th>Request_type</th>\n",
       "      <th>Visible_Status</th>\n",
       "      <th>Market</th>\n",
       "      <th>Parent_Company</th>\n",
       "      <th>TMO</th>\n",
       "      <th>TMS</th>\n",
       "      <th>RM</th>\n",
       "      <th>TIS_assigned</th>\n",
       "      <th>Name</th>\n",
       "      <th>Place_Rush</th>\n",
       "      <th>...</th>\n",
       "      <th>Date_Operations_Confirmed</th>\n",
       "      <th>Date_emulate_setup</th>\n",
       "      <th>Date_add_account</th>\n",
       "      <th>Date_notify_TMO_TMS</th>\n",
       "      <th>Date_train_customer</th>\n",
       "      <th>Date_ complete_insight360</th>\n",
       "      <th>Created_Sort_Desc</th>\n",
       "      <th>Created_By</th>\n",
       "      <th>date_complete</th>\n",
       "      <th>days_complete</th>\n",
       "    </tr>\n",
       "  </thead>\n",
       "  <tbody>\n",
       "    <tr>\n",
       "      <th>59</th>\n",
       "      <td>Maintenance</td>\n",
       "      <td>Complete</td>\n",
       "      <td>St. Louis</td>\n",
       "      <td>FIRST NATIONAL BANK OF WATERLOO</td>\n",
       "      <td>Chapman, Joseph</td>\n",
       "      <td>Crump, Darin</td>\n",
       "      <td>NaN</td>\n",
       "      <td>Terry, Tarena</td>\n",
       "      <td>dcrump20220630170613</td>\n",
       "      <td>NaN</td>\n",
       "      <td>...</td>\n",
       "      <td>2022-07-08</td>\n",
       "      <td>2022-07-08</td>\n",
       "      <td>NaT</td>\n",
       "      <td>2022-07-08</td>\n",
       "      <td>NaT</td>\n",
       "      <td>2022-07-08</td>\n",
       "      <td>2022-06-30 17:10:00</td>\n",
       "      <td>Crump, Darin</td>\n",
       "      <td>2022-07-08</td>\n",
       "      <td>7 days 06:50:00</td>\n",
       "    </tr>\n",
       "    <tr>\n",
       "      <th>61</th>\n",
       "      <td>Maintenance</td>\n",
       "      <td>Complete</td>\n",
       "      <td>St. Louis</td>\n",
       "      <td>Collector of Revenue</td>\n",
       "      <td>Chapman, Joseph</td>\n",
       "      <td>Hodge, Bernice</td>\n",
       "      <td>NaN</td>\n",
       "      <td>Terry, Tarena</td>\n",
       "      <td>bhodge20220630113701</td>\n",
       "      <td>NaN</td>\n",
       "      <td>...</td>\n",
       "      <td>2022-07-08</td>\n",
       "      <td>NaT</td>\n",
       "      <td>NaT</td>\n",
       "      <td>2022-07-08</td>\n",
       "      <td>NaT</td>\n",
       "      <td>2022-07-08</td>\n",
       "      <td>2022-06-30 11:47:00</td>\n",
       "      <td>Hodge, Bernice</td>\n",
       "      <td>2022-07-08</td>\n",
       "      <td>7 days 12:13:00</td>\n",
       "    </tr>\n",
       "    <tr>\n",
       "      <th>62</th>\n",
       "      <td>Expanded Business</td>\n",
       "      <td>Complete</td>\n",
       "      <td>St. Louis</td>\n",
       "      <td>US ROOFING LLC</td>\n",
       "      <td>Chapman, Joseph</td>\n",
       "      <td>Crump, Darin</td>\n",
       "      <td>NaN</td>\n",
       "      <td>Terry, Tarena</td>\n",
       "      <td>dcrump20220630105542</td>\n",
       "      <td>NaN</td>\n",
       "      <td>...</td>\n",
       "      <td>2022-07-14</td>\n",
       "      <td>2022-07-14</td>\n",
       "      <td>NaT</td>\n",
       "      <td>2022-07-14</td>\n",
       "      <td>NaT</td>\n",
       "      <td>2022-07-14</td>\n",
       "      <td>2022-06-30 11:02:00</td>\n",
       "      <td>Crump, Darin</td>\n",
       "      <td>2022-07-14</td>\n",
       "      <td>13 days 12:58:00</td>\n",
       "    </tr>\n",
       "    <tr>\n",
       "      <th>63</th>\n",
       "      <td>Expanded Business</td>\n",
       "      <td>Complete</td>\n",
       "      <td>St. Louis</td>\n",
       "      <td>CITY OF POPLAR BLUFF</td>\n",
       "      <td>Chapman, Joseph</td>\n",
       "      <td>Crump, Darin</td>\n",
       "      <td>NaN</td>\n",
       "      <td>Terry, Tarena</td>\n",
       "      <td>dcrump20220629133742</td>\n",
       "      <td>NaN</td>\n",
       "      <td>...</td>\n",
       "      <td>2022-07-07</td>\n",
       "      <td>2022-07-07</td>\n",
       "      <td>NaT</td>\n",
       "      <td>2022-07-07</td>\n",
       "      <td>2022-07-13</td>\n",
       "      <td>2022-07-13</td>\n",
       "      <td>2022-06-29 14:02:00</td>\n",
       "      <td>Crump, Darin</td>\n",
       "      <td>2022-07-07</td>\n",
       "      <td>7 days 09:58:00</td>\n",
       "    </tr>\n",
       "    <tr>\n",
       "      <th>65</th>\n",
       "      <td>Maintenance</td>\n",
       "      <td>Complete</td>\n",
       "      <td>St. Louis</td>\n",
       "      <td>EAN HOLDINGS LLC</td>\n",
       "      <td>Aiello, Susan</td>\n",
       "      <td>Diecker, Nichole</td>\n",
       "      <td>Clarkson, Anthony</td>\n",
       "      <td>Grubbs, Robin</td>\n",
       "      <td>ndiecker20220628190654</td>\n",
       "      <td>NaN</td>\n",
       "      <td>...</td>\n",
       "      <td>2022-07-08</td>\n",
       "      <td>2022-07-08</td>\n",
       "      <td>NaT</td>\n",
       "      <td>2022-07-08</td>\n",
       "      <td>NaT</td>\n",
       "      <td>NaT</td>\n",
       "      <td>2022-06-28 19:13:00</td>\n",
       "      <td>Diecker, Nichole</td>\n",
       "      <td>2022-07-08</td>\n",
       "      <td>9 days 04:47:00</td>\n",
       "    </tr>\n",
       "  </tbody>\n",
       "</table>\n",
       "<p>5 rows × 29 columns</p>\n",
       "</div>"
      ],
      "text/plain": [
       "         Request_type Visible_Status     Market  \\\n",
       "59        Maintenance       Complete  St. Louis   \n",
       "61        Maintenance       Complete  St. Louis   \n",
       "62  Expanded Business       Complete  St. Louis   \n",
       "63  Expanded Business       Complete  St. Louis   \n",
       "65        Maintenance       Complete  St. Louis   \n",
       "\n",
       "                     Parent_Company              TMO               TMS  \\\n",
       "59  FIRST NATIONAL BANK OF WATERLOO  Chapman, Joseph      Crump, Darin   \n",
       "61             Collector of Revenue  Chapman, Joseph    Hodge, Bernice   \n",
       "62                   US ROOFING LLC  Chapman, Joseph      Crump, Darin   \n",
       "63             CITY OF POPLAR BLUFF  Chapman, Joseph      Crump, Darin   \n",
       "65                 EAN HOLDINGS LLC    Aiello, Susan  Diecker, Nichole   \n",
       "\n",
       "                   RM   TIS_assigned                    Name Place_Rush  ...  \\\n",
       "59                NaN  Terry, Tarena    dcrump20220630170613        NaN  ...   \n",
       "61                NaN  Terry, Tarena    bhodge20220630113701        NaN  ...   \n",
       "62                NaN  Terry, Tarena    dcrump20220630105542        NaN  ...   \n",
       "63                NaN  Terry, Tarena    dcrump20220629133742        NaN  ...   \n",
       "65  Clarkson, Anthony  Grubbs, Robin  ndiecker20220628190654        NaN  ...   \n",
       "\n",
       "   Date_Operations_Confirmed Date_emulate_setup Date_add_account  \\\n",
       "59                2022-07-08         2022-07-08              NaT   \n",
       "61                2022-07-08                NaT              NaT   \n",
       "62                2022-07-14         2022-07-14              NaT   \n",
       "63                2022-07-07         2022-07-07              NaT   \n",
       "65                2022-07-08         2022-07-08              NaT   \n",
       "\n",
       "   Date_notify_TMO_TMS Date_train_customer Date_ complete_insight360  \\\n",
       "59          2022-07-08                 NaT                2022-07-08   \n",
       "61          2022-07-08                 NaT                2022-07-08   \n",
       "62          2022-07-14                 NaT                2022-07-14   \n",
       "63          2022-07-07          2022-07-13                2022-07-13   \n",
       "65          2022-07-08                 NaT                       NaT   \n",
       "\n",
       "     Created_Sort_Desc        Created_By date_complete    days_complete  \n",
       "59 2022-06-30 17:10:00      Crump, Darin    2022-07-08  7 days 06:50:00  \n",
       "61 2022-06-30 11:47:00    Hodge, Bernice    2022-07-08  7 days 12:13:00  \n",
       "62 2022-06-30 11:02:00      Crump, Darin    2022-07-14 13 days 12:58:00  \n",
       "63 2022-06-29 14:02:00      Crump, Darin    2022-07-07  7 days 09:58:00  \n",
       "65 2022-06-28 19:13:00  Diecker, Nichole    2022-07-08  9 days 04:47:00  \n",
       "\n",
       "[5 rows x 29 columns]"
      ]
     },
     "execution_count": 252,
     "metadata": {},
     "output_type": "execute_result"
    }
   ],
   "source": [
    "df_june = df_new[df_new['Created_Sort_Desc'].dt.month==6]\n",
    "df_july = df_new[df_new['Created_Sort_Desc'].dt.month==7]\n",
    "\n",
    "# df_june['Created_Sort_Desc'] = pd.to_datetime(df_june['Created_Sort_Desc'])\n",
    "# df_july['Created_Sort_Desc'] = pd.to_datetime(df_july['Created_Sort_Desc'])\n",
    "df_june.head()"
   ]
  },
  {
   "cell_type": "code",
   "execution_count": 253,
   "id": "37963c21",
   "metadata": {},
   "outputs": [
    {
     "data": {
      "text/plain": [
       "80"
      ]
     },
     "execution_count": 253,
     "metadata": {},
     "output_type": "execute_result"
    }
   ],
   "source": [
    "len(df_june)"
   ]
  },
  {
   "cell_type": "code",
   "execution_count": 254,
   "id": "2d1afea0",
   "metadata": {},
   "outputs": [
    {
     "data": {
      "text/plain": [
       "34"
      ]
     },
     "execution_count": 254,
     "metadata": {},
     "output_type": "execute_result"
    }
   ],
   "source": [
    "len(df_july)"
   ]
  },
  {
   "cell_type": "code",
   "execution_count": 255,
   "id": "926cc80b",
   "metadata": {},
   "outputs": [
    {
     "data": {
      "text/plain": [
       "Timedelta('8 days 10:14:36')"
      ]
     },
     "execution_count": 255,
     "metadata": {},
     "output_type": "execute_result"
    }
   ],
   "source": [
    "df_june.days_complete.mean()"
   ]
  },
  {
   "cell_type": "code",
   "execution_count": 256,
   "id": "069fb9ab",
   "metadata": {},
   "outputs": [
    {
     "data": {
      "text/plain": [
       "Timedelta('7 days 10:54:16.205412720')"
      ]
     },
     "execution_count": 256,
     "metadata": {},
     "output_type": "execute_result"
    }
   ],
   "source": [
    "df_june.days_complete.std()"
   ]
  },
  {
   "cell_type": "code",
   "execution_count": 257,
   "id": "b540f866",
   "metadata": {},
   "outputs": [
    {
     "data": {
      "text/plain": [
       "Timedelta('7 days 13:58:30')"
      ]
     },
     "execution_count": 257,
     "metadata": {},
     "output_type": "execute_result"
    }
   ],
   "source": [
    "df_june.days_complete.median()"
   ]
  },
  {
   "cell_type": "code",
   "execution_count": 258,
   "id": "4bc69b85",
   "metadata": {},
   "outputs": [
    {
     "data": {
      "text/plain": [
       "Request_type\n",
       "Close Account(s)      9\n",
       "Expanded Business    19\n",
       "Maintenance          50\n",
       "New Relationship      2\n",
       "dtype: int64"
      ]
     },
     "execution_count": 258,
     "metadata": {},
     "output_type": "execute_result"
    }
   ],
   "source": [
    "df_june.groupby(['Request_type']).size()"
   ]
  },
  {
   "cell_type": "code",
   "execution_count": 288,
   "id": "a7a29385",
   "metadata": {},
   "outputs": [
    {
     "data": {
      "text/plain": [
       "Request_type\n",
       "Close Account(s)     11.25\n",
       "Expanded Business    23.75\n",
       "Maintenance          62.50\n",
       "New Relationship      2.50\n",
       "dtype: float64"
      ]
     },
     "execution_count": 288,
     "metadata": {},
     "output_type": "execute_result"
    }
   ],
   "source": [
    "df_june.groupby(['Request_type']).size() / len(df_june) * 100"
   ]
  },
  {
   "cell_type": "code",
   "execution_count": 259,
   "id": "b03a325c",
   "metadata": {},
   "outputs": [
    {
     "data": {
      "text/plain": [
       "Request_type\n",
       "Close Account(s)     6 days 19:49:53.333333333\n",
       "Expanded Business   12 days 10:16:56.842105263\n",
       "Maintenance                    7 days 05:06:18\n",
       "New Relationship               7 days 23:11:00\n",
       "Name: days_complete, dtype: timedelta64[ns]"
      ]
     },
     "execution_count": 259,
     "metadata": {},
     "output_type": "execute_result"
    }
   ],
   "source": [
    "df_june.groupby(['Request_type']).days_complete.mean()"
   ]
  },
  {
   "cell_type": "code",
   "execution_count": 260,
   "id": "0f5a540a",
   "metadata": {},
   "outputs": [
    {
     "data": {
      "text/plain": [
       "Request_type\n",
       "Close Account(s)    3 days 16:34:43.241885734\n",
       "Expanded Business   9 days 01:24:09.201871456\n",
       "Maintenance         6 days 15:04:55.277204204\n",
       "New Relationship              7 days 09:57:00\n",
       "Name: days_complete, dtype: timedelta64[ns]"
      ]
     },
     "execution_count": 260,
     "metadata": {},
     "output_type": "execute_result"
    }
   ],
   "source": [
    "df_june.groupby('Request_type')['days_complete'].apply(lambda x: np.std(x))"
   ]
  },
  {
   "cell_type": "code",
   "execution_count": 261,
   "id": "3f41430b",
   "metadata": {},
   "outputs": [
    {
     "data": {
      "text/plain": [
       "Request_type\n",
       "Close Account(s)     6 days 10:05:00\n",
       "Expanded Business   11 days 05:42:00\n",
       "Maintenance          7 days 09:31:30\n",
       "New Relationship     7 days 23:11:00\n",
       "Name: days_complete, dtype: timedelta64[ns]"
      ]
     },
     "execution_count": 261,
     "metadata": {},
     "output_type": "execute_result"
    }
   ],
   "source": [
    "df_june.groupby(['Request_type']).days_complete.median()"
   ]
  },
  {
   "cell_type": "code",
   "execution_count": 262,
   "id": "4d61a285",
   "metadata": {},
   "outputs": [
    {
     "data": {
      "text/plain": [
       "Request_type\n",
       "Expanded Business     3\n",
       "Maintenance          31\n",
       "dtype: int64"
      ]
     },
     "execution_count": 262,
     "metadata": {},
     "output_type": "execute_result"
    }
   ],
   "source": [
    "df_july.groupby(['Request_type']).size()"
   ]
  },
  {
   "cell_type": "code",
   "execution_count": 294,
   "id": "b2d389f2",
   "metadata": {},
   "outputs": [
    {
     "data": {
      "text/plain": [
       "Request_type\n",
       "Expanded Business     8.823529\n",
       "Maintenance          91.176471\n",
       "dtype: float64"
      ]
     },
     "execution_count": 294,
     "metadata": {},
     "output_type": "execute_result"
    }
   ],
   "source": [
    "df_july.groupby(['Request_type']).size() / len(df_july) * 100"
   ]
  },
  {
   "cell_type": "code",
   "execution_count": 263,
   "id": "5d1f0757",
   "metadata": {},
   "outputs": [
    {
     "data": {
      "text/plain": [
       "Timedelta('2 days 22:20:45.882352941')"
      ]
     },
     "execution_count": 263,
     "metadata": {},
     "output_type": "execute_result"
    }
   ],
   "source": [
    "df_july.days_complete.mean()"
   ]
  },
  {
   "cell_type": "code",
   "execution_count": 264,
   "id": "1fb82c09",
   "metadata": {},
   "outputs": [
    {
     "data": {
      "text/plain": [
       "Timedelta('2 days 19:54:54.614356222')"
      ]
     },
     "execution_count": 264,
     "metadata": {},
     "output_type": "execute_result"
    }
   ],
   "source": [
    "df_july.days_complete.std()"
   ]
  },
  {
   "cell_type": "code",
   "execution_count": 265,
   "id": "bd8af639",
   "metadata": {},
   "outputs": [
    {
     "data": {
      "text/plain": [
       "Timedelta('2 days 10:23:30')"
      ]
     },
     "execution_count": 265,
     "metadata": {},
     "output_type": "execute_result"
    }
   ],
   "source": [
    "df_july.days_complete.median()"
   ]
  },
  {
   "cell_type": "code",
   "execution_count": 266,
   "id": "b78c4ebc",
   "metadata": {},
   "outputs": [
    {
     "data": {
      "text/plain": [
       "Request_type\n",
       "Expanded Business             5 days 01:37:20\n",
       "Maintenance         2 days 17:23:01.935483870\n",
       "Name: days_complete, dtype: timedelta64[ns]"
      ]
     },
     "execution_count": 266,
     "metadata": {},
     "output_type": "execute_result"
    }
   ],
   "source": [
    "df_july.groupby(['Request_type']).days_complete.mean()"
   ]
  },
  {
   "cell_type": "code",
   "execution_count": 267,
   "id": "6948dcdb",
   "metadata": {},
   "outputs": [
    {
     "data": {
      "text/plain": [
       "Request_type\n",
       "Expanded Business   3 days 13:56:13.763593488\n",
       "Maintenance         2 days 14:34:48.865658741\n",
       "Name: days_complete, dtype: timedelta64[ns]"
      ]
     },
     "execution_count": 267,
     "metadata": {},
     "output_type": "execute_result"
    }
   ],
   "source": [
    "df_july.groupby('Request_type')['days_complete'].apply(lambda x: np.std(x))"
   ]
  },
  {
   "cell_type": "code",
   "execution_count": 268,
   "id": "ba1e85dc",
   "metadata": {},
   "outputs": [
    {
     "data": {
      "text/plain": [
       "Request_type\n",
       "Expanded Business   5 days 07:57:00\n",
       "Maintenance         2 days 09:48:00\n",
       "Name: days_complete, dtype: timedelta64[ns]"
      ]
     },
     "execution_count": 268,
     "metadata": {},
     "output_type": "execute_result"
    }
   ],
   "source": [
    "df_july.groupby(['Request_type']).days_complete.median()"
   ]
  },
  {
   "cell_type": "code",
   "execution_count": 269,
   "id": "66b99983",
   "metadata": {},
   "outputs": [
    {
     "data": {
      "text/plain": [
       "Timedelta('-6 days +12:06:09.882352941')"
      ]
     },
     "execution_count": 269,
     "metadata": {},
     "output_type": "execute_result"
    }
   ],
   "source": [
    "df_july.days_complete.mean() - df_june.days_complete.mean()"
   ]
  },
  {
   "cell_type": "code",
   "execution_count": 270,
   "id": "af859d68",
   "metadata": {},
   "outputs": [
    {
     "data": {
      "text/plain": [
       "Timedelta('-5 days +09:00:38.408943502')"
      ]
     },
     "execution_count": 270,
     "metadata": {},
     "output_type": "execute_result"
    }
   ],
   "source": [
    "df_july.days_complete.std() - df_june.days_complete.std()"
   ]
  },
  {
   "cell_type": "code",
   "execution_count": 271,
   "id": "458df5fb",
   "metadata": {},
   "outputs": [
    {
     "data": {
      "text/plain": [
       "Timedelta('-6 days +20:25:00')"
      ]
     },
     "execution_count": 271,
     "metadata": {},
     "output_type": "execute_result"
    }
   ],
   "source": [
    "df_july.days_complete.median() - df_june.days_complete.median()"
   ]
  },
  {
   "cell_type": "code",
   "execution_count": 272,
   "id": "dcdeb53b",
   "metadata": {},
   "outputs": [
    {
     "data": {
      "text/plain": [
       "Request_type\n",
       "Close Account(s)                            NaT\n",
       "Expanded Business   -8 days +15:20:23.157894737\n",
       "Maintenance         -5 days +12:16:43.935483870\n",
       "New Relationship                            NaT\n",
       "Name: days_complete, dtype: timedelta64[ns]"
      ]
     },
     "execution_count": 272,
     "metadata": {},
     "output_type": "execute_result"
    }
   ],
   "source": [
    "df_july.groupby(['Request_type']).days_complete.mean() - df_june.groupby(['Request_type']).days_complete.mean()"
   ]
  },
  {
   "cell_type": "code",
   "execution_count": 273,
   "id": "6a9fe64c",
   "metadata": {},
   "outputs": [
    {
     "data": {
      "text/plain": [
       "Request_type\n",
       "Close Account(s)                            NaT\n",
       "Expanded Business   -6 days +12:32:04.561722032\n",
       "Maintenance         -5 days +23:29:53.588454537\n",
       "New Relationship                            NaT\n",
       "Name: days_complete, dtype: timedelta64[ns]"
      ]
     },
     "execution_count": 273,
     "metadata": {},
     "output_type": "execute_result"
    }
   ],
   "source": [
    "df_july.groupby('Request_type')['days_complete'].apply(lambda x: np.std(x)) \\\n",
    "    - df_june.groupby('Request_type')['days_complete'].apply(lambda x: np.std(x))"
   ]
  },
  {
   "cell_type": "code",
   "execution_count": 274,
   "id": "22df447e",
   "metadata": {},
   "outputs": [
    {
     "data": {
      "text/plain": [
       "Request_type\n",
       "Close Account(s)                  NaT\n",
       "Expanded Business   -6 days +02:15:00\n",
       "Maintenance         -5 days +00:16:30\n",
       "New Relationship                  NaT\n",
       "Name: days_complete, dtype: timedelta64[ns]"
      ]
     },
     "execution_count": 274,
     "metadata": {},
     "output_type": "execute_result"
    }
   ],
   "source": [
    "df_july.groupby(['Request_type']).days_complete.median() - df_june.groupby(['Request_type']).days_complete.median()"
   ]
  },
  {
   "cell_type": "code",
   "execution_count": 275,
   "id": "c5868369",
   "metadata": {},
   "outputs": [
    {
     "data": {
      "text/plain": [
       "Request_type\n",
       "Close Account(s)     AxesSubplot(0.125,0.2;0.775x0.68)\n",
       "Expanded Business    AxesSubplot(0.125,0.2;0.775x0.68)\n",
       "Maintenance          AxesSubplot(0.125,0.2;0.775x0.68)\n",
       "New Relationship     AxesSubplot(0.125,0.2;0.775x0.68)\n",
       "Name: days_complete, dtype: object"
      ]
     },
     "execution_count": 275,
     "metadata": {},
     "output_type": "execute_result"
    },
    {
     "data": {
      "image/png": "[encoded data removed]",
      "text/plain": [
       "<Figure size 432x288 with 1 Axes>"
      ]
     },
     "metadata": {
      "needs_background": "light"
     },
     "output_type": "display_data"
    }
   ],
   "source": [
    "df_june2 = df_june.copy(deep=True)\n",
    "df_june2.set_index('Created_Sort_Desc', inplace=True)\n",
    "df_june2.groupby('Request_type')['days_complete'].plot(legend=True, title='Days Completed June by Request Type',\\\n",
    "                                                      xlabel='Date Created',ylabel='Days to Complete')"
   ]
  },
  {
   "cell_type": "code",
   "execution_count": 276,
   "id": "1e62023f",
   "metadata": {},
   "outputs": [
    {
     "data": {
      "text/plain": [
       "Request_type\n",
       "Expanded Business    AxesSubplot(0.125,0.2;0.775x0.68)\n",
       "Maintenance          AxesSubplot(0.125,0.2;0.775x0.68)\n",
       "Name: days_complete, dtype: object"
      ]
     },
     "execution_count": 276,
     "metadata": {},
     "output_type": "execute_result"
    },
    {
     "data": {
      "image/png": "[encoded data removed]",
      "text/plain": [
       "<Figure size 432x288 with 1 Axes>"
      ]
     },
     "metadata": {
      "needs_background": "light"
     },
     "output_type": "display_data"
    }
   ],
   "source": [
    "df_july2 = df_july.copy(deep=True)\n",
    "df_july2.set_index('Created_Sort_Desc', inplace=True)\n",
    "df_july2.groupby('Request_type')['days_complete'].plot(legend=True,title='Days Completed July by Request Type',\\\n",
    "                                                      xlabel='Date Created',ylabel='Days to Complete')"
   ]
  },
  {
   "cell_type": "code",
   "execution_count": 227,
   "id": "9e928f4d",
   "metadata": {},
   "outputs": [],
   "source": [
    "# df_impl.to_excel(\"June_July_STL_Implementation.xlsx\")\n",
    "# df_june.to_excel(\"June_STL_Implementation.xlsx\")\n",
    "# df_july.to_excel(\"July_STL_Implementation.xlsx\")"
   ]
  }
 ],
 "metadata": {
  "kernelspec": {
   "display_name": "Python 3 (ipykernel)",
   "language": "python",
   "name": "python3"
  },
  "language_info": {
   "codemirror_mode": {
    "name": "ipython",
    "version": 3
   },
   "file_extension": ".py",
   "mimetype": "text/x-python",
   "name": "python",
   "nbconvert_exporter": "python",
   "pygments_lexer": "ipython3",
   "version": "3.9.12"
  }
 },
 "nbformat": 4,
 "nbformat_minor": 5
}
